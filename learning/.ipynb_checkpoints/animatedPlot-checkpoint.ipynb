{
 "cells": [
  {
   "cell_type": "code",
   "execution_count": null,
   "metadata": {},
   "outputs": [],
   "source": [
    "import scipy\n",
    "import scipy.signal\n",
    "from utils import load_file_by_key, MAG_NAMES, MAG_FILT_NAMES, HAND_OPTI, save_data, HEAD_OPTI\n",
    "from matplotlib import pyplot as plt\n",
    "from mpl_toolkits.mplot3d import Axes3D\n",
    "from make_dataset import filter_good_data, extract_controller_coord, package_data, smooth_data\n",
    "import matplotlib.animation as animation\n",
    "import numpy as np\n",
    "from pyquaternion import Quaternion\n",
    "import pandas as pd\n",
    "from IPython.display import HTML\n",
    "%matplotlib notebook"
   ]
  },
  {
   "cell_type": "code",
   "execution_count": null,
   "metadata": {},
   "outputs": [],
   "source": [
    "data = load_file_by_key('first_try')\n",
    "valid_data = filter_good_data(data)\n",
    "pos, rot = extract_controller_coord(valid_data)\n",
    "pos_df = pd.Series.to_frame(pos)\n",
    "pos_df = pos_df.reset_index()\n",
    "pos_extract = pd.DataFrame(pos_df)\n",
    "pos_extract[['x','y','z']] = pd.DataFrame(pos_extract[0].values.tolist(), index= pos_extract.index)"
   ]
  },
  {
   "cell_type": "code",
   "execution_count": null,
   "metadata": {},
   "outputs": [],
   "source": [
    "df = pos_extract\n",
    "\n",
    "def update_graph(num):\n",
    "    data=df[num:num+100]\n",
    "    graph._offsets3d = (data.x, data.y, data.z)\n",
    "    title.set_text('3D Test, time={}'.format(num))\n",
    "\n",
    "\n",
    "fig = plt.figure()\n",
    "ax = fig.add_subplot(111, projection='3d')\n",
    "title = ax.set_title('3D Test')\n",
    "ax.set_xlim((-1,1))\n",
    "ax.set_ylim((-1,1))\n",
    "ax.set_zlim((-1,1))\n",
    "\n",
    "data=df[0:0]\n",
    "graph = ax.scatter(data.x, data.y, data.z)\n",
    "\n",
    "ani = animation.FuncAnimation(fig, update_graph, 1000, \n",
    "                               interval=4, blit=False)\n",
    "\n",
    "# plt.show()\n",
    "# ani.save('hand_to_head.html',fps=30)\n",
    "HTML(ani.to_html5_video())"
   ]
  },
  {
   "cell_type": "code",
   "execution_count": null,
   "metadata": {},
   "outputs": [],
   "source": []
  }
 ],
 "metadata": {
  "kernelspec": {
   "display_name": "Python 3",
   "language": "python",
   "name": "python3"
  },
  "language_info": {
   "codemirror_mode": {
    "name": "ipython",
    "version": 3
   },
   "file_extension": ".py",
   "mimetype": "text/x-python",
   "name": "python",
   "nbconvert_exporter": "python",
   "pygments_lexer": "ipython3",
   "version": "3.6.4"
  }
 },
 "nbformat": 4,
 "nbformat_minor": 2
}
