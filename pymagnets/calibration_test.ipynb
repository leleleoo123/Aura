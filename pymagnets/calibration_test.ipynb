{
 "cells": [
  {
   "cell_type": "code",
   "execution_count": 1,
   "metadata": {},
   "outputs": [],
   "source": [
    "%matplotlib widget\n",
    "import numpy as np\n",
    "import matplotlib.pyplot as plt\n",
    "import scipy.optimize\n",
    "import scipy.signal\n"
   ]
  },
  {
   "cell_type": "code",
   "execution_count": 2,
   "metadata": {},
   "outputs": [],
   "source": [
    "\n",
    "CALIBRATION_FILE = r\"C:\\Users\\emwhit\\Dropbox\\projects\\mag-fingers\\pymagnets\\calibrations\\helmholz_18_11_12_15_09_31.txt\"\n",
    "\n",
    "PER_CHANNEL_GAIN = True\n",
    "CROSSTALK_MATRIX = True\n",
    "CROSS_BIAS = False\n",
    "\n",
    "\n",
    "def apply_calibration(data, per_channel_gain, crosstalk, cross_bias):\n",
    "    calibrated = np.matmul(data, np.diag(per_channel_gain))\n",
    "    calibrated = np.sqrt(np.matmul(calibrated**2, crosstalk))\n",
    "    calibrated = np.sqrt(calibrated**2 + cross_bias)\n",
    "    return calibrated\n",
    "\n",
    "\n",
    "def apply_calibration_x(data, x):\n",
    "    per_channel_gain, crosstalk, cross_bias = decode_x(x)\n",
    "    return apply_calibration(data, per_channel_gain, crosstalk, cross_bias)\n",
    "\n",
    "\n",
    "def measure_error(calibrated):\n",
    "    mag = np.linalg.norm(calibrated, axis=1)\n",
    "    error = mag - 1\n",
    "\n",
    "    # print(matrix, bias, np.mean(error**2))\n",
    "    return np.mean(error**2)*100\n",
    "\n",
    "\n",
    "def filter_bad_data(data):\n",
    "    print(data.shape)\n",
    "    filtered = scipy.signal.savgol_filter(data, 15, 2, axis=0)\n",
    "    error = np.sqrt(np.sum((data-filtered)**2, axis=1))\n",
    "    # plt.figure()\n",
    "    # plt.plot(data)\n",
    "    # plt.figure()\n",
    "    # plt.plot(error)\n",
    "    # plt.show()\n",
    "    return data[error < .007, :]\n",
    "\n",
    "\n",
    "def encode_x(per_channel_gain, crosstalk, cross_bias):\n",
    "    x = []\n",
    "    if PER_CHANNEL_GAIN:\n",
    "        x += per_channel_gain\n",
    "    if CROSSTALK_MATRIX:\n",
    "        x += list(crosstalk.flatten())\n",
    "    if CROSS_BIAS:\n",
    "        x += cross_bias\n",
    "    return np.array(x)\n",
    "\n",
    "\n",
    "def decode_x(x):\n",
    "    i = 0\n",
    "\n",
    "    if PER_CHANNEL_GAIN:\n",
    "        per_channel_gain = x[i:i+3]\n",
    "        i += 3\n",
    "    else:\n",
    "        per_channel_gain = [1, 1, 1]\n",
    "\n",
    "    if CROSSTALK_MATRIX:\n",
    "        crosstalk = x[i:i+9].reshape(3, 3)\n",
    "        i += 9\n",
    "    else:\n",
    "        crosstalk = np.eye(3)\n",
    "\n",
    "    if CROSS_BIAS:\n",
    "        cross_bias = x[i:i+3]\n",
    "        i += 3\n",
    "    else:\n",
    "        cross_bias = [0, 0, 0]\n",
    "\n",
    "    return per_channel_gain, crosstalk, cross_bias\n",
    "\n",
    "\n",
    "def get_bounds():\n",
    "    bounds = []\n",
    "    if PER_CHANNEL_GAIN:\n",
    "        bounds += [(1,3)] * 3\n",
    "\n",
    "    if CROSSTALK_MATRIX:\n",
    "        for i in range(9):\n",
    "            if i % 4 == 0:\n",
    "                bounds += [(.999, 1.001)]\n",
    "            else:\n",
    "                bounds += [(-.5, 0)]\n",
    "\n",
    "    if CROSS_BIAS:\n",
    "        bounds += [(-.2, 0)] * 3\n",
    "\n",
    "    return bounds\n"
   ]
  },
  {
   "cell_type": "code",
   "execution_count": 3,
   "metadata": {},
   "outputs": [
    {
     "name": "stdout",
     "output_type": "stream",
     "text": [
      "Loading data...\n",
      "(119600, 3)\n"
     ]
    },
    {
     "name": "stderr",
     "output_type": "stream",
     "text": [
      "c:\\users\\emwhit\\appdata\\local\\programs\\python\\python37\\lib\\site-packages\\scipy\\signal\\_arraytools.py:45: FutureWarning: Using a non-tuple sequence for multidimensional indexing is deprecated; use `arr[tuple(seq)]` instead of `arr[seq]`. In the future this will be interpreted as an array index, `arr[np.array(seq)]`, which will result either in an error or a different result.\n",
      "  b = a[a_slice]\n"
     ]
    },
    {
     "data": {
      "application/vnd.jupyter.widget-view+json": {
       "model_id": "33b8d78b02ed4a808422fcc4c575fe87",
       "version_major": 2,
       "version_minor": 0
      },
      "text/plain": [
       "FigureCanvasNbAgg()"
      ]
     },
     "metadata": {},
     "output_type": "display_data"
    },
    {
     "data": {
      "text/plain": [
       "[<matplotlib.lines.Line2D at 0x29f142420f0>,\n",
       " <matplotlib.lines.Line2D at 0x29f14242240>,\n",
       " <matplotlib.lines.Line2D at 0x29f14242390>]"
      ]
     },
     "execution_count": 3,
     "metadata": {},
     "output_type": "execute_result"
    }
   ],
   "source": [
    "print(\"Loading data...\")\n",
    "data = np.loadtxt(CALIBRATION_FILE, delimiter=\",\")\n",
    "\n",
    "data = filter_bad_data(data)\n",
    "# data = data[np.abs(data[:,0]) > .1]\n",
    "plt.plot(np.abs(data))"
   ]
  },
  {
   "cell_type": "code",
   "execution_count": 27,
   "metadata": {},
   "outputs": [
    {
     "data": {
      "application/vnd.jupyter.widget-view+json": {
       "model_id": "a83bc7a88c1e411495b5727923c2b08f",
       "version_major": 2,
       "version_minor": 0
      },
      "text/plain": [
       "FigureCanvasNbAgg()"
      ]
     },
     "metadata": {},
     "output_type": "display_data"
    },
    {
     "data": {
      "application/vnd.jupyter.widget-view+json": {
       "model_id": "f5ea92f0d1154a90bf8722a5554ca259",
       "version_major": 2,
       "version_minor": 0
      },
      "text/plain": [
       "interactive(children=(FloatSlider(value=-0.005, description='x', max=0.0, min=-0.01, step=0.0001), FloatSlider…"
      ]
     },
     "metadata": {},
     "output_type": "display_data"
    }
   ],
   "source": [
    "from ipywidgets import interact, interactive, fixed, interact_manual\n",
    "import ipywidgets as widgets\n",
    "from IPython.display import display\n",
    "\n",
    "\n",
    "fig = plt.figure(figsize=(15, 9), dpi=80)\n",
    "ax = fig.add_subplot(111)\n",
    "hs = ax.plot(data)\n",
    "# ax.set_ylim((0, .2))\n",
    "# ax.set_xlim((10000, 30000))\n",
    "def f(x, y):\n",
    "    per_channel_gain = [1.73543888, 1.73543888, 1.73543888]\n",
    "    crosstalk = np.eye(3)\n",
    "    crosstalk[0,1] = x\n",
    "    crosstalk[2,1] = y\n",
    "    cross_bias = [1, 1, 1]\n",
    "    x0 = encode_x(per_channel_gain, crosstalk, cross_bias)\n",
    "    calibrated2 = apply_calibration_x(data, x0)\n",
    "    for i, handle in enumerate(hs):\n",
    "        handle.set_ydata(calibrated2[:,i])\n",
    "    \n",
    "interact(f, x=(-0.01, 0.0,.0001), y=(-0.01, 0.0,.0001))\n",
    "\n",
    "plt.show()\n",
    "\n"
   ]
  }
 ],
 "metadata": {
  "kernelspec": {
   "display_name": "Python 3",
   "language": "python",
   "name": "python3"
  },
  "language_info": {
   "codemirror_mode": {
    "name": "ipython",
    "version": 3
   },
   "file_extension": ".py",
   "mimetype": "text/x-python",
   "name": "python",
   "nbconvert_exporter": "python",
   "pygments_lexer": "ipython3",
   "version": "3.7.1"
  }
 },
 "nbformat": 4,
 "nbformat_minor": 2
}
