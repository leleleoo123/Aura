{
 "cells": [
  {
   "cell_type": "code",
   "execution_count": 31,
   "metadata": {},
   "outputs": [],
   "source": [
    "import glob\n",
    "import numpy as np\n",
    "import os\n",
    "import matplotlib.pyplot as plt\n",
    "%matplotlib inline\n",
    "\n",
    "\n",
    "def get_files():\n",
    "    return glob.glob(os.path.join(\"debug_recordings\", \"*.txt\"))\n",
    "\n",
    "\n",
    "def load_data(file):\n",
    "    data = []\n",
    "    with open(file, 'r') as f:\n",
    "        for line in f:\n",
    "            data.append(eval(line))\n",
    "    return np.array(data)\n",
    "\n",
    "\n",
    "def process_file(file):\n",
    "    data = load_data(file)\n",
    "    segmented = []\n",
    "    return data\n",
    "#     for row in range(data.shape[0]):\n",
    "#         processed = segment(data[row, :])\n",
    "#         if processed is not None:\n",
    "#             segmented.append(processed.flatten())\n",
    "#     segmented = np.array(segmented)\n",
    "#     plt.figure()\n",
    "#     plt.plot(data)\n",
    "#     plt.figure()\n",
    "#     plt.plot(segmented)\n",
    "#     plt.show()\n",
    "\n"
   ]
  },
  {
   "cell_type": "code",
   "execution_count": 36,
   "metadata": {},
   "outputs": [],
   "source": [
    "files = get_files()\n",
    "data = process_file(files[0])"
   ]
  },
  {
   "cell_type": "code",
   "execution_count": 37,
   "metadata": {},
   "outputs": [
    {
     "data": {
      "text/plain": [
       "[<matplotlib.lines.Line2D at 0x3403ab0>]"
      ]
     },
     "execution_count": 37,
     "metadata": {},
     "output_type": "execute_result"
    },
    {
     "data": {
      "image/png": "[encoded data removed]",
      "text/plain": [
       "<matplotlib.figure.Figure at 0x33b15f0>"
      ]
     },
     "metadata": {},
     "output_type": "display_data"
    }
   ],
   "source": [
    "plt.figure()\n",
    "\n",
    "plt.ioff()  \n",
    "plt.plot(data[0:200])"
   ]
  },
  {
   "cell_type": "code",
   "execution_count": 39,
   "metadata": {},
   "outputs": [],
   "source": [
    "TX_CHANNELS = 3\n",
    "RX_CHANNELS = 1\n",
    "\n",
    "BUFFER_SIZE = 100\n",
    "OFFSET = 0  # handled in adc sampling\n",
    "OFF_COUNT_THRESHOLD = 15\n",
    "MIN_OFF = 6\n",
    "MAX_OFF = 10\n",
    "MAX_OFF_LONG = 22\n",
    "MIN_ON = 15\n",
    "DROP_THRESH = -.4\n",
    "RISE_THRESH = .3\n",
    "\n",
    "DATA_PER_CHANNEL = 40"
   ]
  },
  {
   "cell_type": "code",
   "execution_count": 40,
   "metadata": {},
   "outputs": [],
   "source": [
    "all_buffer = np.zeros((DATA_PER_CHANNEL, TX_CHANNELS, RX_CHANNELS))"
   ]
  },
  {
   "cell_type": "code",
   "execution_count": 45,
   "metadata": {},
   "outputs": [
    {
     "data": {
      "text/plain": [
       "array([[0.],\n",
       "       [0.],\n",
       "       [0.]])"
      ]
     },
     "execution_count": 45,
     "metadata": {},
     "output_type": "execute_result"
    }
   ],
   "source": [
    "all_buffer[1]\n"
   ]
  },
  {
   "cell_type": "code",
   "execution_count": null,
   "metadata": {},
   "outputs": [],
   "source": []
  }
 ],
 "metadata": {
  "kernelspec": {
   "display_name": "Python 3",
   "language": "python",
   "name": "python3"
  },
  "language_info": {
   "codemirror_mode": {
    "name": "ipython",
    "version": 3
   },
   "file_extension": ".py",
   "mimetype": "text/x-python",
   "name": "python",
   "nbconvert_exporter": "python",
   "pygments_lexer": "ipython3",
   "version": "3.6.4"
  }
 },
 "nbformat": 4,
 "nbformat_minor": 2
}
